{
 "cells": [
  {
   "cell_type": "code",
   "execution_count": 8,
   "metadata": {},
   "outputs": [],
   "source": [
    "import time \n",
    "\n",
    "# Road network based on graph \n",
    "road_map = {\n",
    "    \"Warehouse\": {\"City A\": 2, \"City B\": 5},\n",
    "    \"City A\": {\"City C\": 3, \"City B\": 2}, \n",
    "    \"City B\": {\"City C\": 2, \"City D\": 4},\n",
    "    \"City C\": {\"City D\": 1},\n",
    "    \"City D\": {}\n",
    "}\n",
    "\n",
    "# Function logging using time module \n",
    "def log_event(message):\n",
    "    timestamp = time.strftime(\"%H:%M:%S\") #Formats timestamps to Hour : Minute : Seconds\n",
    "    print(f\"[LOG] {timestamp}: {message}\")\n",
    "\n",
    "def shipment (destination, supplies, priority=\"normal\", expected_arrival=None, emergency_numbers=None, contact_numbers=None):\n",
    "    shipment_info = f\"Shipment to {destination} with {supplies}. Priority: {priority}.\"\n",
    "    if expected_arrival:\n",
    "        shipment_info += f\" Expected Arrival: {expected_arrival}.\"\n",
    "    if emergency_numbers:\n",
    "        shipment_info += f\" Emergency Numbers: {emergency_numbers}. Contact number: {contact_number}.\"\n",
    "\n",
    "shipment(\"City A\", \"Medical Kits\")\n",
    "shipment(\"City B\", \"Food Supplies\", priority=\"high\",\n",
    "expected_arrival=\"2 hours\")"
   ]
  },
  {
   "cell_type": "code",
   "execution_count": null,
   "metadata": {},
   "outputs": [],
   "source": []
  }
 ],
 "metadata": {
  "kernelspec": {
   "display_name": "Python 3 (ipykernel)",
   "language": "python",
   "name": "python3"
  },
  "language_info": {
   "codemirror_mode": {
    "name": "ipython",
    "version": 3
   },
   "file_extension": ".py",
   "mimetype": "text/x-python",
   "name": "python",
   "nbconvert_exporter": "python",
   "pygments_lexer": "ipython3",
   "version": "3.13.1"
  }
 },
 "nbformat": 4,
 "nbformat_minor": 4
}
