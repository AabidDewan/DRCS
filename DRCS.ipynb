{
 "cells": [
  {
   "cell_type": "code",
   "execution_count": 2,
   "metadata": {},
   "outputs": [],
   "source": [
    "import time \n",
    "\n",
    "# Road network based on graph \n",
    "road_map = {\n",
    "    \"Warehouse\": {\"City A\": 2, \"City B\": 5},\n",
    "    \"City A\": {\"City C\": 3, \"City B\": 2}, \n",
    "    \"City B\": {\"City C\": 2, \"City D\": 4},\n",
    "    \"City C\": {\"City D\": 1},\n",
    "    \"City D\": {}\n",
    "}\n",
    "\n",
    "# Function logging using time module \n",
    "def log_event(message):\n",
    "    timestamp = time.strftime(\"%H:%M:$S\") #Formats timestamps to Hour : Minute : Seconds\n",
    "    print(f\"[LOG] {timestamp}: {message}\")\n",
    "\n",
    "    "
   ]
  }
 ],
 "metadata": {
  "kernelspec": {
   "display_name": "Python 3",
   "language": "python",
   "name": "python3"
  },
  "language_info": {
   "codemirror_mode": {
    "name": "ipython",
    "version": 3
   },
   "file_extension": ".py",
   "mimetype": "text/x-python",
   "name": "python",
   "nbconvert_exporter": "python",
   "pygments_lexer": "ipython3",
   "version": "3.13.1"
  }
 },
 "nbformat": 4,
 "nbformat_minor": 2
}
