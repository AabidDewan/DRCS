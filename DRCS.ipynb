{
 "cells": [
  {
   "cell_type": "code",
   "execution_count": 4,
   "metadata": {},
   "outputs": [
    {
     "ename": "NameError",
     "evalue": "name 'send_shipment' is not defined",
     "output_type": "error",
     "traceback": [
      "\u001b[0;31m---------------------------------------------------------------------------\u001b[0m",
      "\u001b[0;31mNameError\u001b[0m                                 Traceback (most recent call last)",
      "Cell \u001b[0;32mIn[4], line 24\u001b[0m\n\u001b[1;32m     21\u001b[0m     \u001b[38;5;28;01mif\u001b[39;00m emergency_contact:\n\u001b[1;32m     22\u001b[0m         shipment_info \u001b[38;5;241m+\u001b[39m\u001b[38;5;241m=\u001b[39m \u001b[38;5;124mf\u001b[39m\u001b[38;5;124m\"\u001b[39m\u001b[38;5;124m Emergency contact: \u001b[39m\u001b[38;5;132;01m{\u001b[39;00memergency_contact\u001b[38;5;132;01m}\u001b[39;00m\u001b[38;5;124m. Contact number: \u001b[39m\u001b[38;5;132;01m{\u001b[39;00mcontact_number\u001b[38;5;132;01m}\u001b[39;00m\u001b[38;5;124m.\u001b[39m\u001b[38;5;124m\"\u001b[39m\n\u001b[0;32m---> 24\u001b[0m \u001b[43msend_shipment\u001b[49m(\u001b[38;5;124m\"\u001b[39m\u001b[38;5;124mCity A\u001b[39m\u001b[38;5;124m\"\u001b[39m, \u001b[38;5;124m\"\u001b[39m\u001b[38;5;124mMedical Kits\u001b[39m\u001b[38;5;124m\"\u001b[39m)\n",
      "\u001b[0;31mNameError\u001b[0m: name 'send_shipment' is not defined"
     ]
    }
   ],
   "source": [
    "import time \n",
    "\n",
    "# Road network based on graph \n",
    "road_map = {\n",
    "    \"Warehouse\": {\"City A\": 2, \"City B\": 5},\n",
    "    \"City A\": {\"City C\": 3, \"City B\": 2}, \n",
    "    \"City B\": {\"City C\": 2, \"City D\": 4},\n",
    "    \"City C\": {\"City D\": 1},\n",
    "    \"City D\": {}\n",
    "}\n",
    "\n",
    "# Function logging using time module \n",
    "def log_event(message):\n",
    "    timestamp = time.strftime(\"%H:%M:%S\") #Formats timestamps to Hour : Minute : Seconds\n",
    "    print(f\"[LOG] {timestamp}: {message}\")\n",
    "\n",
    "def shipment (destination, supplies, priority, expected_arrival, emergency_numbers, contact_numbers):\n",
    "    shipment_info = f\"Shipment to {destination} with {supplies}. Priority: {priority}.\"\n",
    "    if expected_arrival:\n",
    "        shipment_info += f\" Expected arrival: {expected_arrival}.\"\n",
    "    if emergency_contact:\n",
    "        shipment_info += f\" Emergency contact: {emergency_contact}. Contact number: {contact_number}.\"\n"
   ]
  },
  {
   "cell_type": "code",
   "execution_count": null,
   "metadata": {},
   "outputs": [],
   "source": []
  }
 ],
 "metadata": {
  "kernelspec": {
   "display_name": "Python 3 (ipykernel)",
   "language": "python",
   "name": "python3"
  },
  "language_info": {
   "codemirror_mode": {
    "name": "ipython",
    "version": 3
   },
   "file_extension": ".py",
   "mimetype": "text/x-python",
   "name": "python",
   "nbconvert_exporter": "python",
   "pygments_lexer": "ipython3",
   "version": "3.13.1"
  }
 },
 "nbformat": 4,
 "nbformat_minor": 4
}
