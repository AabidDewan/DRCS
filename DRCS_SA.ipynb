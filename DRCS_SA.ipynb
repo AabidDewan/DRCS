{
 "cells": [
  {
   "cell_type": "code",
   "execution_count": 5,
   "metadata": {},
   "outputs": [
    {
     "name": "stdout",
     "output_type": "stream",
     "text": [
      "[LOG] 21:15:43: Optimal route: Warehouse -> City A -> City C -> City D\n"
     ]
    }
   ],
   "source": [
    "import time\n",
    "import heapq\n",
    "\n",
    "# Road network based on graph \n",
    "road_map = {\n",
    "    \"Warehouse\": {\"City A\": 2, \"City B\": 5},\n",
    "    \"City A\": {\"City C\": 3, \"City B\": 2}, \n",
    "    \"City B\": {\"City C\": 2, \"City D\": 4},\n",
    "    \"City C\": {\"City D\": 1},\n",
    "    \"City D\": {}\n",
    "}\n",
    "\n",
    "# Function logging using time module \n",
    "def log_event(message):\n",
    "    timestamp = time.strftime(\"%H:%M:%S\") #Formats timestamps to Hour : Minute : Seconds\n",
    "    print(f\"[LOG] {timestamp}: {message}\")\n",
    "\n",
    "def shipment (destination, supplies, priority=\"normal\", expected_arrival=None, emergency_contact=None, contact_number=None):\n",
    "    shipment_info = f\"Shipment to {destination} with {supplies}. Priority: {priority}.\"\n",
    "    if expected_arrival:\n",
    "        shipment_info += f\" Expected Arrival: {expected_arrival}.\"\n",
    "    if emergency_contact and contact_number:\n",
    "        shipment_info += f\" Emergency Numbers: {emergency_contact}. Contact number: {contact_number}.\"\n",
    "\n",
    "shipment(\"City A\", \"Medical Kits\")\n",
    "shipment(\"City B\", \"Food Supplies\", priority=\"high\",expected_arrival=\"2 hours\")\n",
    "\n",
    "shipment(\"City A\", \"Medical Kits\")\n",
    "shipment(\"City B\", \"Food Supplies\", priority=\"high\",expected_arrival=\"2 hours\")\n",
    "\n",
    "#Handling emergency requests:\n",
    "shipment(\"City C\", \"Water and Blankets\", priority = \"urgent\", emergency_contact = \"John Doe\", contact_number = \"555-1234\")\n",
    "\n",
    "#Optimizing the routes for fastest delivery: \n",
    "def find_shortest_route(graph, start, end):\n",
    "    priority_queue = [(0, start, [])]  # (cost, current location, route)\n",
    "    visited = set()\n",
    "\n",
    "    while priority_queue:\n",
    "        cost, node, path = heapq.heappop(priority_queue)  # Get the lowest cost node\n",
    "\n",
    "        if node in visited:\n",
    "            continue  # Skip if already visited\n",
    "\n",
    "        path = path + [node]  \n",
    "\n",
    "        if node == end:\n",
    "            log_event(f\"Optimal route: {' -> '.join(path)}\")  # Log optimal route\n",
    "            return path\n",
    "        \n",
    "        visited.add(node)\n",
    " # Explore neighbors (connected cities)\n",
    "        for neighbor, travel_cost in graph.get(node, {}).items():\n",
    "            if neighbor not in visited:\n",
    "                heapq.heappush(priority_queue, (cost + travel_cost, neighbor, path))\n",
    "    log_event(\"No available route.\")  # Log if no route found\n",
    "    return None\n",
    "\n",
    "best_route = find_shortest_route(road_map, \"Warehouse\", \"City D\")"
   ]
  },
  {
   "cell_type": "code",
   "execution_count": null,
   "metadata": {},
   "outputs": [],
   "source": []
  }
 ],
 "metadata": {
  "kernelspec": {
   "display_name": "Python [conda env:base] *",
   "language": "python",
   "name": "conda-base-py"
  },
  "language_info": {
   "codemirror_mode": {
    "name": "ipython",
    "version": 3
   },
   "file_extension": ".py",
   "mimetype": "text/x-python",
   "name": "python",
   "nbconvert_exporter": "python",
   "pygments_lexer": "ipython3",
   "version": "3.12.7"
  }
 },
 "nbformat": 4,
 "nbformat_minor": 4
}
