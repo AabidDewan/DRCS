{
 "cells": [
  {
   "cell_type": "code",
   "execution_count": 1,
   "metadata": {},
   "outputs": [
    {
     "name": "stdout",
     "output_type": "stream",
     "text": [
      "[LOG] 23:35:16: Shipment to City A with Medical Kits. Priority: normal. ETA not provided.\n",
      "[LOG] 23:35:16: Shipment to City B with Food Supplies. Priority: high. ETA: 2 hours.\n",
      "[LOG] 23:35:16: Shipment to City D with Water and Blankets. Priority: normal. ETA not provided.\n",
      "[LOG] 23:35:16: Shipment to City C with Water and Blankets. Priority: urgent. ETA not provided. Emergency Numbers: John Doe. Contact number: 555-1234.\n",
      "[LOG] 23:35:16: Optimal route: Warehouse -> City A -> City C -> City D\n",
      "[LOG] 23:35:16: Optimal route: Warehouse -> City A -> City B\n"
     ]
    }
   ],
   "source": [
    "import time\n",
    "import heapq\n",
    "\n",
    "# Road network based on graph \n",
    "road_map = {\n",
    "    \"Warehouse\": {\"City A\": 2, \"City B\": 5},\n",
    "    \"City A\": {\"City C\": 3, \"City B\": 2}, \n",
    "    \"City B\": {\"City C\": 2, \"City D\": 4},\n",
    "    \"City C\": {\"City D\": 1},\n",
    "    \"City D\": {}\n",
    "}\n",
    "\n",
    "# Function logging using time module \n",
    "def log_event(message):\n",
    "    timestamp = time.strftime(\"%H:%M:%S\") #Formats timestamps to Hour : Minute : Seconds\n",
    "    print(f\"[LOG] {timestamp}: {message}\")\n",
    "\n",
    "def shipment(destination, supplies, priority=\"normal\", expected_arrival=None, emergency_contact=None, contact_number=None):\n",
    "    eta_message = f\"ETA: {expected_arrival}.\" if expected_arrival else \"ETA not provided.\"\n",
    "    log_message = f\"Shipment to {destination} with {supplies}. Priority: {priority}. {eta_message}\"\n",
    "\n",
    "    if emergency_contact and contact_number:\n",
    "        log_message += f\" Emergency Numbers: {emergency_contact}. Contact number: {contact_number}.\"\n",
    "\n",
    "    log_event(log_message)\n",
    "\n",
    "\n",
    "#Optimizing the routes for fastest delivery: \n",
    "def find_shortest_route(graph, start, end):\n",
    "    priority_queue = [(0, start, [])]  # (cost, current location, route)\n",
    "    visited = set()\n",
    "\n",
    "    while priority_queue:\n",
    "        cost, node, path = heapq.heappop(priority_queue)  # Get the lowest cost node\n",
    "\n",
    "        if node in visited:\n",
    "            continue  # Skip if already visited\n",
    "\n",
    "        path = path + [node]  \n",
    "\n",
    "        if node == end:\n",
    "            log_event(f\"Optimal route: {' -> '.join(path)}\")  # Log optimal route\n",
    "            return path\n",
    "        \n",
    "        visited.add(node)\n",
    " # Explore neighbors (connected cities)\n",
    "        for neighbor, travel_cost in graph.get(node, {}).items():\n",
    "            if neighbor not in visited:\n",
    "                heapq.heappush(priority_queue, (cost + travel_cost, neighbor, path))\n",
    "    log_event(\"No available route.\")  # Log if no route found\n",
    "    return None\n",
    "\n",
    "\n",
    "# Test Cases:\n",
    "shipment(\"City A\", \"Medical Kits\")\n",
    "shipment(\"City B\", \"Food Supplies\", priority=\"high\",expected_arrival=\"2 hours\")\n",
    "shipment(\"City D\", \"Water and Blankets\")\n",
    "\n",
    "#Handling emergency requests:\n",
    "shipment(\"City C\", \"Water and Blankets\", priority = \"urgent\", emergency_contact = \"John Doe\", contact_number = \"555-1234\")\n",
    "\n",
    "#best route:\n",
    "best_route = find_shortest_route(road_map, \"Warehouse\", \"City D\")\n",
    "best_route = find_shortest_route(road_map, \"Warehouse\", \"City B\")"
   ]
  },
  {
   "cell_type": "code",
   "execution_count": null,
   "metadata": {},
   "outputs": [],
   "source": []
  }
 ],
 "metadata": {
  "kernelspec": {
   "display_name": "Python 3",
   "language": "python",
   "name": "python3"
  },
  "language_info": {
   "codemirror_mode": {
    "name": "ipython",
    "version": 3
   },
   "file_extension": ".py",
   "mimetype": "text/x-python",
   "name": "python",
   "nbconvert_exporter": "python",
   "pygments_lexer": "ipython3",
   "version": "3.13.1"
  }
 },
 "nbformat": 4,
 "nbformat_minor": 4
}
